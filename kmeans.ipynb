{
 "cells": [
  {
   "cell_type": "markdown",
   "metadata": {},
   "source": [
    "# K-means"
   ]
  },
  {
   "cell_type": "markdown",
   "metadata": {},
   "source": [
    "### Implémentation\n"
   ]
  },
  {
   "cell_type": "code",
   "execution_count": 16,
   "metadata": {
    "ExecuteTime": {
     "end_time": "2023-06-08T09:09:36.811283300Z",
     "start_time": "2023-06-08T09:09:36.804286600Z"
    }
   },
   "outputs": [],
   "source": [
    "import math\n",
    "import random\n",
    "\n",
    "from numba import njit\n",
    "import time\n",
    "import matplotlib.pyplot as plt\n",
    "from keras.datasets import mnist\n",
    "import numpy as np"
   ]
  },
  {
   "cell_type": "code",
   "execution_count": 17,
   "metadata": {
    "ExecuteTime": {
     "end_time": "2023-06-08T09:09:37.245985Z",
     "start_time": "2023-06-08T09:09:37.056972300Z"
    }
   },
   "outputs": [],
   "source": [
    "(x_train, y_train),(x_test, y_test) = mnist.load_data()"
   ]
  },
  {
   "cell_type": "code",
   "execution_count": 18,
   "metadata": {
    "ExecuteTime": {
     "end_time": "2023-06-08T09:09:58.575221Z",
     "start_time": "2023-06-08T09:09:37.477719700Z"
    }
   },
   "outputs": [
    {
     "name": "stdout",
     "output_type": "stream",
     "text": [
      "Iteration 1: 2.255007743835449 seconds\n",
      "Iteration 2: 0.35849833488464355 seconds\n",
      "Iteration 3: 0.3825192451477051 seconds\n",
      "Iteration 4: 0.3704819679260254 seconds\n",
      "Iteration 5: 0.3775825500488281 seconds\n",
      "Iteration 6: 0.3709714412689209 seconds\n",
      "Iteration 7: 0.5060033798217773 seconds\n",
      "Iteration 8: 0.42250776290893555 seconds\n",
      "Iteration 9: 0.3849971294403076 seconds\n",
      "Iteration 10: 0.48856353759765625 seconds\n",
      "Iteration 11: 0.37845420837402344 seconds\n",
      "Iteration 12: 0.4175689220428467 seconds\n",
      "Iteration 13: 0.4649317264556885 seconds\n",
      "Iteration 14: 0.398989200592041 seconds\n",
      "Iteration 15: 0.5040011405944824 seconds\n",
      "Iteration 16: 0.3745098114013672 seconds\n",
      "Iteration 17: 0.377000093460083 seconds\n",
      "Iteration 18: 0.36599135398864746 seconds\n",
      "Iteration 19: 0.3805508613586426 seconds\n",
      "Iteration 20: 0.36202573776245117 seconds\n",
      "Iteration 21: 0.37343502044677734 seconds\n",
      "Iteration 22: 0.3814983367919922 seconds\n",
      "Iteration 23: 0.3669888973236084 seconds\n",
      "Iteration 24: 0.3720860481262207 seconds\n",
      "Iteration 25: 0.3829927444458008 seconds\n",
      "Iteration 26: 0.3685894012451172 seconds\n",
      "Iteration 27: 0.40198373794555664 seconds\n",
      "Iteration 28: 0.3799271583557129 seconds\n",
      "Iteration 29: 0.38700437545776367 seconds\n",
      "Iteration 30: 0.3747396469116211 seconds\n",
      "Iteration 31: 0.37756848335266113 seconds\n",
      "Iteration 32: 0.3759033679962158 seconds\n",
      "Iteration 33: 0.3815736770629883 seconds\n",
      "Iteration 34: 0.3619725704193115 seconds\n",
      "Iteration 35: 0.40645384788513184 seconds\n",
      "Iteration 36: 0.38858652114868164 seconds\n",
      "Iteration 37: 0.3674132823944092 seconds\n",
      "Iteration 38: 0.3790261745452881 seconds\n",
      "Iteration 39: 0.436509370803833 seconds\n",
      "Iteration 40: 0.4295217990875244 seconds\n",
      "Iteration 41: 0.4004991054534912 seconds\n",
      "Iteration 42: 0.4054238796234131 seconds\n",
      "Iteration 43: 0.384990930557251 seconds\n",
      "Iteration 44: 0.3690059185028076 seconds\n",
      "Iteration 45: 0.392503023147583 seconds\n",
      "Iteration 46: 0.4175691604614258 seconds\n",
      "Iteration 47: 0.39442014694213867 seconds\n"
     ]
    }
   ],
   "source": [
    "@njit\n",
    "def initialize_centers(data, k):\n",
    "    # Sélectionne k points aléatoires comme centres initiaux\n",
    "    indices = np.random.choice(len(data), k, replace=False)\n",
    "    centers = data[indices]\n",
    "    return centers\n",
    "\n",
    "@njit\n",
    "def assign_points(data, centers):\n",
    "    clusters = []\n",
    "    for point in data:\n",
    "        # Trouve l'indice du centre le plus proche pour chaque point\n",
    "        # distances = np.linalg.norm(centers - point, axis=1)\n",
    "        # cluster_index = np.argmin(distances)\n",
    "        # clusters.append(cluster_index)\n",
    "        distances = np.sqrt(np.sum((centers - point) ** 2, axis=1))\n",
    "        cluster_index = np.argmin(distances)\n",
    "        clusters.append(cluster_index)\n",
    "    return np.array(clusters)\n",
    "\n",
    "@njit\n",
    "def update_centers(data, clusters, old_centers):\n",
    "    # new_centers = []\n",
    "    # for i in range(len(old_centers)):\n",
    "    #     # Calcule le nouveau centre comme la moyenne des points du cluster\n",
    "    #     points = data[clusters == i]\n",
    "    #     new_center = np.mean(points, axis=0)\n",
    "    #     new_centers.append(new_center)\n",
    "    new_centers = np.zeros_like(old_centers)\n",
    "    counts = np.zeros(len(old_centers))\n",
    "    for i in range(len(old_centers)):\n",
    "        points = data[clusters == i]\n",
    "        counts[i] = len(points)\n",
    "        new_centers[i] = np.sum(points, axis=0)\n",
    "    for i in range(len(old_centers)):\n",
    "        if counts[i] != 0:\n",
    "            new_centers[i] /= counts[i]\n",
    "    return new_centers\n",
    "\n",
    "\n",
    "def kmeans_star(data, k, max_iterations=100):\n",
    "    # Initialisation des centres initiaux\n",
    "    centers = initialize_centers(data, k)\n",
    "    for iteration in range(max_iterations):\n",
    "        start_time = time.time()\n",
    "        # Attribution des points aux centres les plus proches\n",
    "        clusters = assign_points(data, centers)\n",
    "        # Mise à jour des centres\n",
    "        new_centers = update_centers(data, clusters, centers)\n",
    "        if np.all(centers == new_centers):\n",
    "            break\n",
    "        centers = new_centers\n",
    "        end_time = time.time()\n",
    "        iteration_time = end_time - start_time\n",
    "        print(f\"Iteration {iteration + 1}: {iteration_time} seconds\")\n",
    "    return clusters, centers\n",
    "\n",
    "n_clusters = 3\n",
    "max_iterations=1000\n",
    "x_train_normalized = x_train.reshape(-1, 28*28).astype(float)\n",
    "clusters, centers = kmeans_star(x_train_normalized, n_clusters, max_iterations)"
   ]
  },
  {
   "cell_type": "markdown",
   "metadata": {},
   "source": [
    "## Réduction de dimension"
   ]
  },
  {
   "cell_type": "code",
   "execution_count": 19,
   "metadata": {
    "ExecuteTime": {
     "end_time": "2023-06-08T09:09:59.411225100Z",
     "start_time": "2023-06-08T09:09:58.578225700Z"
    }
   },
   "outputs": [],
   "source": [
    "distances = []\n",
    "for i, x in enumerate(x_train_normalized):\n",
    "    shortest_dist = []\n",
    "    for cluster_index in range(n_clusters):\n",
    "        # distance = math.dist(centers[cluster_index], x)\n",
    "        distance = np.linalg.norm(centers[cluster_index] - x)\n",
    "        shortest_dist.append(distance)\n",
    "    shortest_dist = list(shortest_dist)[:2]\n",
    "    distances.append(shortest_dist)\n",
    "distances = np.array(distances)"
   ]
  },
  {
   "cell_type": "code",
   "execution_count": 20,
   "metadata": {
    "ExecuteTime": {
     "end_time": "2023-06-08T09:09:59.428220500Z",
     "start_time": "2023-06-08T09:09:59.414220Z"
    }
   },
   "outputs": [
    {
     "data": {
      "text/plain": "35857"
     },
     "execution_count": 20,
     "metadata": {},
     "output_type": "execute_result"
    }
   ],
   "source": [
    "np.argmin(distances[:,0])"
   ]
  },
  {
   "cell_type": "code",
   "execution_count": 21,
   "metadata": {
    "ExecuteTime": {
     "end_time": "2023-06-08T09:09:59.471729Z",
     "start_time": "2023-06-08T09:09:59.429835400Z"
    }
   },
   "outputs": [
    {
     "data": {
      "text/plain": "array([[0., 0., 0., ..., 0., 0., 0.],\n       [0., 0., 0., ..., 0., 0., 0.],\n       [0., 0., 0., ..., 0., 0., 0.]])"
     },
     "execution_count": 21,
     "metadata": {},
     "output_type": "execute_result"
    }
   ],
   "source": [
    "centers"
   ]
  },
  {
   "cell_type": "code",
   "execution_count": 22,
   "metadata": {
    "ExecuteTime": {
     "end_time": "2023-06-08T09:10:00.001219600Z",
     "start_time": "2023-06-08T09:09:59.445719800Z"
    }
   },
   "outputs": [
    {
     "data": {
      "text/plain": "<Figure size 576x432 with 1 Axes>",
      "image/png": "[encoded data removed]"
     },
     "metadata": {
      "needs_background": "light"
     },
     "output_type": "display_data"
    }
   ],
   "source": [
    "plt.figure(figsize=(8, 6))\n",
    "colors = ['b', 'g', 'r', 'c', 'm', 'y', 'k', 'purple', 'orange', 'lime']\n",
    "colors_centroid = ['r', 'c', 'b', 'g', 'm', 'y', 'k', 'purple', 'orange', 'lime']\n",
    "clusters_colors = [colors[i] for i in clusters]\n",
    "# plt.scatter(distances[:, 0], distances[:, 1], c=clusters_colors, label=f'Cluster {i}')\n",
    "\n",
    "for cluster_index in range(n_clusters):\n",
    "    cluster_points = distances[clusters == cluster_index]\n",
    "    centroid_x = cluster_points[:, 0].mean()\n",
    "    centroid_y = cluster_points[:, 1].mean()\n",
    "    plt.scatter(cluster_points[:, 0], cluster_points[:, 1], c=colors[cluster_index], label=f'Cluster {cluster_index}')\n",
    "    plt.scatter(centroid_x,centroid_y,marker = \"x\", s=150,linewidths = 5, zorder = 10, c=colors_centroid[cluster_index])\n",
    "\n",
    "\n",
    "\n",
    "plt.xlabel('Dimension 1')\n",
    "plt.ylabel('Dimension 2')\n",
    "plt.title('Visualization of K-means Clusters')\n",
    "plt.legend()\n",
    "plt.show()"
   ]
  },
  {
   "cell_type": "markdown",
   "metadata": {},
   "source": [
    "## Compression / Décompression"
   ]
  },
  {
   "cell_type": "code",
   "execution_count": 23,
   "metadata": {
    "ExecuteTime": {
     "end_time": "2023-06-08T09:10:00.017722900Z",
     "start_time": "2023-06-08T09:10:00.004274500Z"
    }
   },
   "outputs": [],
   "source": [
    "def compress_image(data, clusters, centers):\n",
    "    compressed_image = np.zeros_like(data)\n",
    "    for i in range(len(data)):\n",
    "        compressed_image[i] = clusters[i]\n",
    "    return compressed_image\n",
    "\n",
    "def decompress_image(data, clusters, centers):\n",
    "    decompressed_image = np.zeros_like(data)\n",
    "    for i in range(len(data)):\n",
    "        decompressed_image[i] = centers[int(clusters[i])]\n",
    "    return decompressed_image\n",
    "\n",
    "def kmeans_compress_decompress(data, k, max_iterations=100):\n",
    "    clusters, centers = kmeans_star(data, k, max_iterations)\n",
    "    compressed_image = compress_image(data, clusters, centers)\n",
    "    decompressed_image = decompress_image(data, clusters, centers)\n",
    "    return compressed_image, decompressed_image"
   ]
  },
  {
   "cell_type": "code",
   "execution_count": 24,
   "metadata": {
    "ExecuteTime": {
     "end_time": "2023-06-08T09:10:00.405327100Z",
     "start_time": "2023-06-08T09:10:00.021317200Z"
    }
   },
   "outputs": [
    {
     "ename": "TypingError",
     "evalue": "Failed in nopython mode pipeline (step: nopython frontend)\n\u001B[1m\u001B[1m\u001B[1mNo implementation of function Function(<function argmin at 0x000002B1F075AB80>) found for signature:\n \n >>> argmin(float64)\n \nThere are 2 candidate implementations:\n\u001B[1m      - Of which 2 did not match due to:\n      Overload in function 'array_argmin': File: numba\\np\\arraymath.py: Line 654.\n        With argument(s): '(float64)':\u001B[0m\n\u001B[1m       Rejected as the implementation raised a specific error:\n         AttributeError: 'Float' object has no attribute 'dtype'\u001B[0m\n  raised from C:\\Users\\Maathess\\AppData\\Roaming\\Python\\Python39\\site-packages\\numba\\np\\arraymath.py:657\n\u001B[0m\n\u001B[0m\u001B[1mDuring: resolving callee type: Function(<function argmin at 0x000002B1F075AB80>)\u001B[0m\n\u001B[0m\u001B[1mDuring: typing of call at C:\\Users\\Maathess\\AppData\\Local\\Temp/ipykernel_8088/335785818.py (17)\n\u001B[0m\n\u001B[1m\nFile \"..\\..\\..\\..\\..\\..\\AppData\\Local\\Temp\\ipykernel_8088\\335785818.py\", line 17:\u001B[0m\n\u001B[1m<source missing, REPL/exec in use?>\u001B[0m\n",
     "output_type": "error",
     "traceback": [
      "\u001B[1;31m---------------------------------------------------------------------------\u001B[0m",
      "\u001B[1;31mTypingError\u001B[0m                               Traceback (most recent call last)",
      "\u001B[1;32m~\\AppData\\Local\\Temp/ipykernel_8088/4134851424.py\u001B[0m in \u001B[0;36m<module>\u001B[1;34m\u001B[0m\n\u001B[0;32m      9\u001B[0m \u001B[1;33m\u001B[0m\u001B[0m\n\u001B[0;32m     10\u001B[0m \u001B[1;31m# Perform compression and decompression\u001B[0m\u001B[1;33m\u001B[0m\u001B[1;33m\u001B[0m\u001B[0m\n\u001B[1;32m---> 11\u001B[1;33m \u001B[0mcompressed_image\u001B[0m\u001B[1;33m,\u001B[0m \u001B[0mdecompressed_image\u001B[0m \u001B[1;33m=\u001B[0m \u001B[0mkmeans_compress_decompress\u001B[0m\u001B[1;33m(\u001B[0m\u001B[0mimage_flattened\u001B[0m\u001B[1;33m,\u001B[0m \u001B[0mk\u001B[0m\u001B[1;33m)\u001B[0m\u001B[1;33m\u001B[0m\u001B[1;33m\u001B[0m\u001B[0m\n\u001B[0m\u001B[0;32m     12\u001B[0m \u001B[1;33m\u001B[0m\u001B[0m\n\u001B[0;32m     13\u001B[0m \u001B[1;31m# Reshape the compressed and decompressed images back to the original dimensions\u001B[0m\u001B[1;33m\u001B[0m\u001B[1;33m\u001B[0m\u001B[0m\n",
      "\u001B[1;32m~\\AppData\\Local\\Temp/ipykernel_8088/1245526055.py\u001B[0m in \u001B[0;36mkmeans_compress_decompress\u001B[1;34m(data, k, max_iterations)\u001B[0m\n\u001B[0;32m     12\u001B[0m \u001B[1;33m\u001B[0m\u001B[0m\n\u001B[0;32m     13\u001B[0m \u001B[1;32mdef\u001B[0m \u001B[0mkmeans_compress_decompress\u001B[0m\u001B[1;33m(\u001B[0m\u001B[0mdata\u001B[0m\u001B[1;33m,\u001B[0m \u001B[0mk\u001B[0m\u001B[1;33m,\u001B[0m \u001B[0mmax_iterations\u001B[0m\u001B[1;33m=\u001B[0m\u001B[1;36m100\u001B[0m\u001B[1;33m)\u001B[0m\u001B[1;33m:\u001B[0m\u001B[1;33m\u001B[0m\u001B[1;33m\u001B[0m\u001B[0m\n\u001B[1;32m---> 14\u001B[1;33m     \u001B[0mclusters\u001B[0m\u001B[1;33m,\u001B[0m \u001B[0mcenters\u001B[0m \u001B[1;33m=\u001B[0m \u001B[0mkmeans_star\u001B[0m\u001B[1;33m(\u001B[0m\u001B[0mdata\u001B[0m\u001B[1;33m,\u001B[0m \u001B[0mk\u001B[0m\u001B[1;33m,\u001B[0m \u001B[0mmax_iterations\u001B[0m\u001B[1;33m)\u001B[0m\u001B[1;33m\u001B[0m\u001B[1;33m\u001B[0m\u001B[0m\n\u001B[0m\u001B[0;32m     15\u001B[0m     \u001B[0mcompressed_image\u001B[0m \u001B[1;33m=\u001B[0m \u001B[0mcompress_image\u001B[0m\u001B[1;33m(\u001B[0m\u001B[0mdata\u001B[0m\u001B[1;33m,\u001B[0m \u001B[0mclusters\u001B[0m\u001B[1;33m,\u001B[0m \u001B[0mcenters\u001B[0m\u001B[1;33m)\u001B[0m\u001B[1;33m\u001B[0m\u001B[1;33m\u001B[0m\u001B[0m\n\u001B[0;32m     16\u001B[0m     \u001B[0mdecompressed_image\u001B[0m \u001B[1;33m=\u001B[0m \u001B[0mdecompress_image\u001B[0m\u001B[1;33m(\u001B[0m\u001B[0mdata\u001B[0m\u001B[1;33m,\u001B[0m \u001B[0mclusters\u001B[0m\u001B[1;33m,\u001B[0m \u001B[0mcenters\u001B[0m\u001B[1;33m)\u001B[0m\u001B[1;33m\u001B[0m\u001B[1;33m\u001B[0m\u001B[0m\n",
      "\u001B[1;32m~\\AppData\\Local\\Temp/ipykernel_8088/335785818.py\u001B[0m in \u001B[0;36mkmeans_star\u001B[1;34m(data, k, max_iterations)\u001B[0m\n\u001B[0;32m     45\u001B[0m         \u001B[0mstart_time\u001B[0m \u001B[1;33m=\u001B[0m \u001B[0mtime\u001B[0m\u001B[1;33m.\u001B[0m\u001B[0mtime\u001B[0m\u001B[1;33m(\u001B[0m\u001B[1;33m)\u001B[0m\u001B[1;33m\u001B[0m\u001B[1;33m\u001B[0m\u001B[0m\n\u001B[0;32m     46\u001B[0m         \u001B[1;31m# Attribution des points aux centres les plus proches\u001B[0m\u001B[1;33m\u001B[0m\u001B[1;33m\u001B[0m\u001B[0m\n\u001B[1;32m---> 47\u001B[1;33m         \u001B[0mclusters\u001B[0m \u001B[1;33m=\u001B[0m \u001B[0massign_points\u001B[0m\u001B[1;33m(\u001B[0m\u001B[0mdata\u001B[0m\u001B[1;33m,\u001B[0m \u001B[0mcenters\u001B[0m\u001B[1;33m)\u001B[0m\u001B[1;33m\u001B[0m\u001B[1;33m\u001B[0m\u001B[0m\n\u001B[0m\u001B[0;32m     48\u001B[0m         \u001B[1;31m# Mise à jour des centres\u001B[0m\u001B[1;33m\u001B[0m\u001B[1;33m\u001B[0m\u001B[0m\n\u001B[0;32m     49\u001B[0m         \u001B[0mnew_centers\u001B[0m \u001B[1;33m=\u001B[0m \u001B[0mupdate_centers\u001B[0m\u001B[1;33m(\u001B[0m\u001B[0mdata\u001B[0m\u001B[1;33m,\u001B[0m \u001B[0mclusters\u001B[0m\u001B[1;33m,\u001B[0m \u001B[0mcenters\u001B[0m\u001B[1;33m)\u001B[0m\u001B[1;33m\u001B[0m\u001B[1;33m\u001B[0m\u001B[0m\n",
      "\u001B[1;32m~\\AppData\\Roaming\\Python\\Python39\\site-packages\\numba\\core\\dispatcher.py\u001B[0m in \u001B[0;36m_compile_for_args\u001B[1;34m(self, *args, **kws)\u001B[0m\n\u001B[0;32m    466\u001B[0m                 \u001B[0me\u001B[0m\u001B[1;33m.\u001B[0m\u001B[0mpatch_message\u001B[0m\u001B[1;33m(\u001B[0m\u001B[0mmsg\u001B[0m\u001B[1;33m)\u001B[0m\u001B[1;33m\u001B[0m\u001B[1;33m\u001B[0m\u001B[0m\n\u001B[0;32m    467\u001B[0m \u001B[1;33m\u001B[0m\u001B[0m\n\u001B[1;32m--> 468\u001B[1;33m             \u001B[0merror_rewrite\u001B[0m\u001B[1;33m(\u001B[0m\u001B[0me\u001B[0m\u001B[1;33m,\u001B[0m \u001B[1;34m'typing'\u001B[0m\u001B[1;33m)\u001B[0m\u001B[1;33m\u001B[0m\u001B[1;33m\u001B[0m\u001B[0m\n\u001B[0m\u001B[0;32m    469\u001B[0m         \u001B[1;32mexcept\u001B[0m \u001B[0merrors\u001B[0m\u001B[1;33m.\u001B[0m\u001B[0mUnsupportedError\u001B[0m \u001B[1;32mas\u001B[0m \u001B[0me\u001B[0m\u001B[1;33m:\u001B[0m\u001B[1;33m\u001B[0m\u001B[1;33m\u001B[0m\u001B[0m\n\u001B[0;32m    470\u001B[0m             \u001B[1;31m# Something unsupported is present in the user code, add help info\u001B[0m\u001B[1;33m\u001B[0m\u001B[1;33m\u001B[0m\u001B[0m\n",
      "\u001B[1;32m~\\AppData\\Roaming\\Python\\Python39\\site-packages\\numba\\core\\dispatcher.py\u001B[0m in \u001B[0;36merror_rewrite\u001B[1;34m(e, issue_type)\u001B[0m\n\u001B[0;32m    407\u001B[0m                 \u001B[1;32mraise\u001B[0m \u001B[0me\u001B[0m\u001B[1;33m\u001B[0m\u001B[1;33m\u001B[0m\u001B[0m\n\u001B[0;32m    408\u001B[0m             \u001B[1;32melse\u001B[0m\u001B[1;33m:\u001B[0m\u001B[1;33m\u001B[0m\u001B[1;33m\u001B[0m\u001B[0m\n\u001B[1;32m--> 409\u001B[1;33m                 \u001B[1;32mraise\u001B[0m \u001B[0me\u001B[0m\u001B[1;33m.\u001B[0m\u001B[0mwith_traceback\u001B[0m\u001B[1;33m(\u001B[0m\u001B[1;32mNone\u001B[0m\u001B[1;33m)\u001B[0m\u001B[1;33m\u001B[0m\u001B[1;33m\u001B[0m\u001B[0m\n\u001B[0m\u001B[0;32m    410\u001B[0m \u001B[1;33m\u001B[0m\u001B[0m\n\u001B[0;32m    411\u001B[0m         \u001B[0margtypes\u001B[0m \u001B[1;33m=\u001B[0m \u001B[1;33m[\u001B[0m\u001B[1;33m]\u001B[0m\u001B[1;33m\u001B[0m\u001B[1;33m\u001B[0m\u001B[0m\n",
      "\u001B[1;31mTypingError\u001B[0m: Failed in nopython mode pipeline (step: nopython frontend)\n\u001B[1m\u001B[1m\u001B[1mNo implementation of function Function(<function argmin at 0x000002B1F075AB80>) found for signature:\n \n >>> argmin(float64)\n \nThere are 2 candidate implementations:\n\u001B[1m      - Of which 2 did not match due to:\n      Overload in function 'array_argmin': File: numba\\np\\arraymath.py: Line 654.\n        With argument(s): '(float64)':\u001B[0m\n\u001B[1m       Rejected as the implementation raised a specific error:\n         AttributeError: 'Float' object has no attribute 'dtype'\u001B[0m\n  raised from C:\\Users\\Maathess\\AppData\\Roaming\\Python\\Python39\\site-packages\\numba\\np\\arraymath.py:657\n\u001B[0m\n\u001B[0m\u001B[1mDuring: resolving callee type: Function(<function argmin at 0x000002B1F075AB80>)\u001B[0m\n\u001B[0m\u001B[1mDuring: typing of call at C:\\Users\\Maathess\\AppData\\Local\\Temp/ipykernel_8088/335785818.py (17)\n\u001B[0m\n\u001B[1m\nFile \"..\\..\\..\\..\\..\\..\\AppData\\Local\\Temp\\ipykernel_8088\\335785818.py\", line 17:\u001B[0m\n\u001B[1m<source missing, REPL/exec in use?>\u001B[0m\n"
     ]
    }
   ],
   "source": [
    "image_index = 0\n",
    "image = x_train_normalized[image_index]\n",
    "\n",
    "# Convert the image to a flattened 1D array\n",
    "image_flattened = image.flatten()\n",
    "\n",
    "# Set the number of clusters for k-means compression\n",
    "k = 10\n",
    "\n",
    "# Perform compression and decompression\n",
    "compressed_image, decompressed_image = kmeans_compress_decompress(image_flattened, k)\n",
    "\n",
    "# Reshape the compressed and decompressed images back to the original dimensions\n",
    "compressed_image = compressed_image.reshape(image.shape)\n",
    "decompressed_image = decompressed_image.reshape(image.shape)\n",
    "\n",
    "# Display the original, compressed, and decompressed images\n",
    "import matplotlib.pyplot as plt\n",
    "\n",
    "plt.figure(figsize=(10, 4))\n",
    "\n",
    "# Original image\n",
    "plt.subplot(1, 3, 1)\n",
    "plt.imshow(image, cmap='gray')\n",
    "plt.title('Original Image')\n",
    "\n",
    "# Compressed image\n",
    "plt.subplot(1, 3, 2)\n",
    "plt.imshow(compressed_image, cmap='gray')\n",
    "plt.title('Compressed Image')\n",
    "\n",
    "# Decompressed image\n",
    "plt.subplot(1, 3, 3)\n",
    "plt.imshow(decompressed_image, cmap='gray')\n",
    "plt.title('Decompressed Image')\n",
    "\n",
    "plt.tight_layout()\n",
    "plt.show()"
   ]
  },
  {
   "cell_type": "code",
   "execution_count": null,
   "metadata": {
    "ExecuteTime": {
     "start_time": "2023-06-08T08:40:24.255711600Z"
    }
   },
   "outputs": [],
   "source": [
    "plt.figure(figsize=(8, 6))\n",
    "plt.imshow(decompressed_image[0], cmap='gray')\n",
    "plt.show()"
   ]
  },
  {
   "cell_type": "code",
   "execution_count": null,
   "metadata": {
    "ExecuteTime": {
     "start_time": "2023-06-08T08:40:24.255711600Z"
    }
   },
   "outputs": [],
   "source": [
    "def plot_digits_with_Y(X, Y):\n",
    "    \"\"\"\n",
    "    Afficher les 10 premiers chiffres de chaque chiffre\n",
    "    \"\"\"\n",
    "    fig, axs = plt.subplots(10, 10, figsize=(5, 5))\n",
    "    for digit in range(10):\n",
    "        digit_indices = np.where(Y == digit)[0][:10]  # Sélectionner les indices des 10 premiers échantillons du chiffre\n",
    "        for i, idx in enumerate(digit_indices):\n",
    "            ax = axs[digit, i]\n",
    "            ax.imshow(X[idx], cmap='gray')\n",
    "            ax.axis('off')"
   ]
  },
  {
   "cell_type": "code",
   "execution_count": null,
   "metadata": {
    "ExecuteTime": {
     "start_time": "2023-06-08T08:40:24.256211500Z"
    }
   },
   "outputs": [],
   "source": [
    "# Afficher les digits pour chaque cluster\n",
    "fig, axs = plt.subplots(n_clusters, 10, figsize=(10, n_clusters))\n",
    "fig.suptitle('Digits dans chaque cluster')\n",
    "\n",
    "for i in range(n_clusters):\n",
    "    cluster_digits = data[labels == i]\n",
    "    for j in range(10):\n",
    "        ax = axs[i, j]\n",
    "        ax.imshow(cluster_digits[j].reshape(28, 28), cmap='gray')\n",
    "        ax.axis('off')\n",
    "plt.show()"
   ]
  },
  {
   "cell_type": "code",
   "execution_count": null,
   "metadata": {
    "ExecuteTime": {
     "start_time": "2023-06-08T08:40:24.256211500Z"
    }
   },
   "outputs": [],
   "source": []
  },
  {
   "cell_type": "code",
   "execution_count": null,
   "metadata": {
    "ExecuteTime": {
     "start_time": "2023-06-08T08:40:24.256711Z"
    }
   },
   "outputs": [],
   "source": [
    "# Afficher les digits pour chaque cluster\n",
    "fig, axs = plt.subplots(n_clusters, 10, figsize=(10, n_clusters))\n",
    "fig.suptitle('Digits dans chaque cluster')\n",
    "\n",
    "for i in range(n_clusters):\n",
    "    cluster_digits = x_test[labels == i]\n",
    "    for j in range(10):\n",
    "        ax = axs[i, j]\n",
    "        ax.imshow(cluster_digits[j].reshape(28, 28), cmap='gray')\n",
    "        ax.axis('off')\n",
    "plt.show()"
   ]
  },
  {
   "cell_type": "code",
   "execution_count": null,
   "metadata": {},
   "outputs": [],
   "source": []
  }
 ],
 "metadata": {
  "kernelspec": {
   "display_name": "Python 3 (ipykernel)",
   "language": "python",
   "name": "python3"
  },
  "language_info": {
   "codemirror_mode": {
    "name": "ipython",
    "version": 3
   },
   "file_extension": ".py",
   "mimetype": "text/x-python",
   "name": "python",
   "nbconvert_exporter": "python",
   "pygments_lexer": "ipython3",
   "version": "3.9.7"
  }
 },
 "nbformat": 4,
 "nbformat_minor": 1
}
